{
 "cells": [
  {
   "cell_type": "code",
   "execution_count": null,
   "metadata": {},
   "outputs": [],
   "source": [
    "import re\n",
    "from chat_downloader import ChatDownloader\n",
    "\n",
    "RGX_FMT_CHAT_MSG = re.compile(r\"([\\d:]+)\\s\\|\\s\\((.*?)\\)\\s(.*?):\\s(.*)\")\n",
    "CHAT_MSG_FIELDS = [\"timestamp\", \"badges\", \"name\", \"msg\"]\n",
    "chat = ChatDownloader().get_chat(url=\"https://www.twitch.tv/videos/1742420368\")\n",
    "\n",
    "with open(\"test.tsv\", \"wt\") as chat_file:\n",
    "    # Write header.\n",
    "    chat_file.write('\\t'.join(CHAT_MSG_FIELDS) + \"\\n\")\n",
    "\n",
    "    # Iterate through messages.\n",
    "    for msg in chat:\n",
    "        fmt_chat_msg: str = chat.format(msg)\n",
    "        # Use regex to parse message.\n",
    "        if msg_info := re.search(RGX_FMT_CHAT_MSG, fmt_chat_msg):\n",
    "            chat_file.write('\\t'.join(msg_info.groups()) + \"\\n\")"
   ]
  }
 ],
 "metadata": {
  "kernelspec": {
   "display_name": "notebooks",
   "language": "python",
   "name": "python3"
  },
  "language_info": {
   "codemirror_mode": {
    "name": "ipython",
    "version": 3
   },
   "file_extension": ".py",
   "mimetype": "text/x-python",
   "name": "python",
   "nbconvert_exporter": "python",
   "pygments_lexer": "ipython3",
   "version": "3.11.3"
  },
  "orig_nbformat": 4
 },
 "nbformat": 4,
 "nbformat_minor": 2
}
