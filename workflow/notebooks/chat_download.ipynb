{
 "cells": [
  {
   "cell_type": "code",
   "execution_count": null,
   "metadata": {},
   "outputs": [],
   "source": [
    "import re\n",
    "from chat_downloader import ChatDownloader"
   ]
  },
  {
   "cell_type": "code",
   "execution_count": null,
   "metadata": {},
   "outputs": [],
   "source": [
    "RGX_FMT_CHAT_MSG = re.compile(r\"([\\d:]+)\\s\\|\\s\\((.*?)\\)\\s(.*?):\\s(.*)\")\n",
    "CHAT_MSG_FIELDS = [\"timestamp\", \"badges\", \"name\", \"msg\"]\n",
    "chat = ChatDownloader().get_chat(url=\"https://www.twitch.tv/videos/1782260142\")\n",
    "\n",
    "with open(\"test.tsv\", \"wt\") as chat_file:\n",
    "    # Write header.\n",
    "    chat_file.write('\\t'.join(CHAT_MSG_FIELDS) + \"\\n\")\n",
    "\n",
    "    # Iterate through messages.\n",
    "    for msg in chat:\n",
    "        fmt_chat_msg: str = chat.format(msg)\n",
    "        # Use regex to parse message.\n",
    "        if msg_info := re.search(RGX_FMT_CHAT_MSG, fmt_chat_msg):\n",
    "            timestamp, badges, names, msg_text = list(msg_info.groups())\n",
    "\n",
    "            # First pad time to standardize.\n",
    "            while len(timestamp) < 8:\n",
    "                # if str_time close to next time unit (hour, minute, etc.)\n",
    "                if (len(timestamp) + 1) % 3 == 0:\n",
    "                    # Append colon.\n",
    "                    timestamp = \":\" + timestamp\n",
    "                else:\n",
    "                    # Pad with 0's.\n",
    "                    timestamp = \"0\" + timestamp\n",
    "            \n",
    "            # Ignore unicode characters.\n",
    "            msg_text = msg_text.encode(\"ascii\", \"replace\").decode(encoding=\"utf-8\")\n",
    "            chat_file.write(\"\\t\".join([timestamp, badges, names, msg_text]) + \"\\n\")\n"
   ]
  },
  {
   "cell_type": "code",
   "execution_count": null,
   "metadata": {},
   "outputs": [],
   "source": []
  }
 ],
 "metadata": {
  "kernelspec": {
   "display_name": "notebooks",
   "language": "python",
   "name": "python3"
  },
  "language_info": {
   "codemirror_mode": {
    "name": "ipython",
    "version": 3
   },
   "file_extension": ".py",
   "mimetype": "text/x-python",
   "name": "python",
   "nbconvert_exporter": "python",
   "pygments_lexer": "ipython3",
   "version": "3.11.0"
  },
  "orig_nbformat": 4
 },
 "nbformat": 4,
 "nbformat_minor": 2
}
