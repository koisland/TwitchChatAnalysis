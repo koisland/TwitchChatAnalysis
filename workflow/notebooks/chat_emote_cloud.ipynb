{
 "cells": [
  {
   "cell_type": "code",
   "execution_count": null,
   "metadata": {},
   "outputs": [],
   "source": [
    "import pandas as pd\n",
    "import matplotlib.pyplot as plt\n",
    "from matplotlib.text import Text\n",
    "import wordcloud\n",
    "import squarify"
   ]
  },
  {
   "cell_type": "code",
   "execution_count": null,
   "metadata": {},
   "outputs": [],
   "source": [
    "df = (\n",
    "    # Only use file row from multindex pivot table\n",
    "    pd.read_csv(\"./../../output/Jerma985/plots/vods_emote_count_data_raw.csv\", header=[1])\n",
    "    # Drop other header rows\n",
    "    .dropna()\n",
    "    .rename(columns={\"file\": \"word\"})\n",
    "    .set_index(\"word\")\n",
    ")"
   ]
  },
  {
   "cell_type": "code",
   "execution_count": null,
   "metadata": {},
   "outputs": [],
   "source": [
    "df"
   ]
  },
  {
   "cell_type": "code",
   "execution_count": null,
   "metadata": {},
   "outputs": [],
   "source": [
    "id_vod_name = \"1742420368_We are all remembering so much right now\"\n",
    "id, vod_name = id_vod_name.split(\"_\", maxsplit=1)\n",
    "word_freq = df.loc[df[id_vod_name] != 0.0, id_vod_name].to_dict()"
   ]
  },
  {
   "cell_type": "code",
   "execution_count": null,
   "metadata": {},
   "outputs": [],
   "source": [
    "word_freq"
   ]
  },
  {
   "cell_type": "code",
   "execution_count": null,
   "metadata": {},
   "outputs": [],
   "source": [
    "width, height = 1200, 600"
   ]
  },
  {
   "cell_type": "code",
   "execution_count": null,
   "metadata": {},
   "outputs": [],
   "source": [
    "emotecloud = wordcloud.WordCloud(width=width, height=height).generate_from_frequencies(word_freq)"
   ]
  },
  {
   "cell_type": "code",
   "execution_count": null,
   "metadata": {},
   "outputs": [],
   "source": [
    "plt.title(f\"Emote Cloud ({vod_name})\")\n",
    "plt.axis(\"off\")\n",
    "plt.tight_layout(pad = 0)\n",
    "plt.imshow(emotecloud)"
   ]
  },
  {
   "cell_type": "code",
   "execution_count": null,
   "metadata": {},
   "outputs": [],
   "source": [
    "import os, sys\n",
    "import base64\n",
    "from typing import Dict, Iterable, Optional\n",
    "\n",
    "def label_b64_images(\n",
    "    dir: str, ignore_fnames: Optional[Iterable[str]] = None, keep_ext: Optional[Iterable[str]] = None\n",
    ") -> Dict[str, str]:\n",
    "    # Set defaults\n",
    "    if ignore_fnames is None:\n",
    "        ignore_fnames = []\n",
    "\n",
    "    if keep_ext is None:\n",
    "        keep_ext = [\".png\", \".gif\"]\n",
    "\n",
    "    fname_to_path = {}\n",
    "    for full_fname in os.listdir(dir):\n",
    "        full_fname_no_ext, ext = os.path.splitext(full_fname)\n",
    "        # Ignore extensions.\n",
    "        if ext not in keep_ext:\n",
    "            continue\n",
    "\n",
    "        # Names are base64 encode so filesafe.\n",
    "        if full_fname in ignore_fnames:\n",
    "            continue\n",
    "\n",
    "        fname = os.path.basename(full_fname_no_ext)\n",
    "        try:\n",
    "            decoded_fname = base64.b64decode(fname).decode()\n",
    "        except Exception as err:\n",
    "            sys.stderr.write(f\"Cannot b64decode {fname}: {err}\")\n",
    "            continue\n",
    "        fname_to_path[decoded_fname] = os.path.join(dir, full_fname)\n",
    "\n",
    "    return fname_to_path"
   ]
  },
  {
   "cell_type": "code",
   "execution_count": null,
   "metadata": {},
   "outputs": [],
   "source": [
    "all_emotes = {\n",
    "    **label_b64_images(\"./../../output/Jerma985/emotes/bttv/\"),\n",
    "    **label_b64_images(\"./../../output/Jerma985/emotes/twitch/\"),\n",
    "    **label_b64_images(\"./../../output/all/emotes/bttv/\"),\n",
    "    **label_b64_images(\"./../../output/all/emotes/twitch/\"),\n",
    "}"
   ]
  },
  {
   "cell_type": "code",
   "execution_count": null,
   "metadata": {},
   "outputs": [],
   "source": [
    "import numpy as np\n",
    "from PIL import Image\n",
    "from matplotlib.offsetbox import AnnotationBbox, OffsetImage"
   ]
  },
  {
   "cell_type": "code",
   "execution_count": null,
   "metadata": {},
   "outputs": [],
   "source": [
    "x = 0.\n",
    "y = 0.\n",
    "width = 800.\n",
    "height = 400.\n",
    "# Normalize sizes to width and height of plot\n",
    "values = squarify.normalize_sizes(word_freq.values(), width, height)\n",
    "# Create emote to rect mapping.\n",
    "rects = dict(zip(word_freq.keys(), squarify.squarify(values, x=x, y=y, dx=width, dy=height)))"
   ]
  },
  {
   "cell_type": "code",
   "execution_count": null,
   "metadata": {},
   "outputs": [],
   "source": [
    "plt.clf()\n",
    "fig = plt.figure(figsize=(16, 8))\n",
    "ax = fig.add_subplot(111)\n",
    "\n",
    "fig = squarify.plot(sizes=values, label=word_freq.keys(), ax=ax, bar_kwargs={\"edgecolor\": \"black\"})\n",
    "plt.title(f\"Emote Treemap ({vod_name})\")\n",
    "plt.axis(\"off\")\n",
    "plt.tight_layout(pad = 0)\n",
    "\n",
    "for child in fig.get_children():\n",
    "    if isinstance(child, Text):\n",
    "        emote_name = child.get_text()\n",
    "        # If found child element.\n",
    "        if image_path := all_emotes.get(emote_name):\n",
    "            # Set text to blank and fill with image annotation.\n",
    "            child.set_text(\"\")\n",
    "            img = Image.open(image_path).convert('RGBA')\n",
    "\n",
    "            img_dim = dict(zip([\"x\", \"y\"], img.getbbox()[2:]))\n",
    "\n",
    "            rect_dim = rects[emote_name]\n",
    "            rect_x_dim, rect_y_dim = rect_dim[\"dx\"], rect_dim[\"dy\"]\n",
    "            min_dim = \"x\" if rect_x_dim == min(rect_x_dim, rect_y_dim) else \"y\"\n",
    "\n",
    "            img_rect_dim_ratio = img_dim[min_dim] / rect_dim[\"d\" + min_dim]\n",
    "\n",
    "            new_img_dim = (\n",
    "                int(img_dim[\"x\"] / img_rect_dim_ratio),\n",
    "                int(img_dim[\"y\"] / img_rect_dim_ratio)\n",
    "            )\n",
    "\n",
    "            # Resize image.\n",
    "            img = img.resize(size=new_img_dim)\n",
    "\n",
    "            im = OffsetImage(img)\n",
    "            im.image.axes = fig\n",
    "\n",
    "            ab = AnnotationBbox(im, xy=child.get_position(), xycoords=\"data\", pad=0, frameon=False)\n",
    "            fig.add_artist(ab)"
   ]
  },
  {
   "cell_type": "code",
   "execution_count": null,
   "metadata": {},
   "outputs": [],
   "source": [
    "plt.show()"
   ]
  }
 ],
 "metadata": {
  "kernelspec": {
   "display_name": "notebooks",
   "language": "python",
   "name": "python3"
  },
  "language_info": {
   "codemirror_mode": {
    "name": "ipython",
    "version": 3
   },
   "file_extension": ".py",
   "mimetype": "text/x-python",
   "name": "python",
   "nbconvert_exporter": "python",
   "pygments_lexer": "ipython3",
   "version": "3.9.16"
  },
  "orig_nbformat": 4
 },
 "nbformat": 4,
 "nbformat_minor": 2
}
