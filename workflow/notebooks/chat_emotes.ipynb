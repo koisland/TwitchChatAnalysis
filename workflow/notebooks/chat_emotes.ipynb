{
 "cells": [
  {
   "cell_type": "code",
   "execution_count": null,
   "metadata": {},
   "outputs": [],
   "source": [
    "import os\n",
    "import seaborn as sns\n",
    "import pandas as pd\n",
    "from collections import Counter"
   ]
  },
  {
   "cell_type": "code",
   "execution_count": null,
   "metadata": {},
   "outputs": [],
   "source": [
    "bttv_emote_dir = \"./../../output/Jerma985/emotes/bttv\"\n",
    "twitch_emote_dir = \"./../../output/Jerma985/emotes/twitch\""
   ]
  },
  {
   "cell_type": "code",
   "execution_count": null,
   "metadata": {},
   "outputs": [],
   "source": [
    "bttv_emotes = {os.path.join(bttv_emote_dir, emote_file) for emote_file in os.listdir(bttv_emote_dir)}\n",
    "twitch_emotes = {os.path.join(twitch_emote_dir, emote_file) for emote_file in os.listdir(twitch_emote_dir)}\n",
    "all_emotes = bttv_emotes.union(twitch_emotes)"
   ]
  },
  {
   "cell_type": "code",
   "execution_count": null,
   "metadata": {},
   "outputs": [],
   "source": [
    "files = [\n",
    "    \"./READ_DESCRIPTION_OF_VOD_Happy_Birthday_________Insert_name_of_choice_here.tsv\",\n",
    "    \"./Frog_Detective_3_and_Grotto_Beasts_breakdown_later.tsv\",\n",
    "    \"./Hardcore_gaming_mindset_standard_difficulty.tsv\",\n",
    "    \"./RE4RemA4ke_or_however_Im_supposed_to_write_it_idk.tsv\",\n",
    "    \"./Hylics.tsv\",\n",
    "]"
   ]
  },
  {
   "cell_type": "code",
   "execution_count": null,
   "metadata": {},
   "outputs": [],
   "source": [
    "import csv\n",
    "import sys\n",
    "from typing import Tuple\n",
    "\n",
    "csv.field_size_limit(sys.maxsize)"
   ]
  },
  {
   "cell_type": "code",
   "execution_count": null,
   "metadata": {},
   "outputs": [],
   "source": [
    "emote_to_file = {os.path.basename(os.path.splitext(emote_file)[0]): emote_file for emote_file in all_emotes}\n",
    "emote_set = set(emote_to_file.keys())"
   ]
  },
  {
   "cell_type": "code",
   "execution_count": null,
   "metadata": {},
   "outputs": [],
   "source": [
    "def count_emotes(chat_tsv: str, emote_set: set) -> pd.DataFrame:\n",
    "    with open(chat_tsv, 'rt') as chat_file:\n",
    "        vod_name = os.path.splitext(os.path.basename(chat_tsv))[0]\n",
    "        reader = csv.DictReader(\n",
    "            chat_file,\n",
    "            fieldnames=[\"timestamp\", \"user\", \"msg\", \"is_command\", \"is_mention\"],\n",
    "            delimiter=\"\\t\"\n",
    "        )\n",
    "        \n",
    "        word_count = Counter()\n",
    "        for line in reader:\n",
    "            words = Counter(line[\"msg\"].split(' '))\n",
    "            remove_words = set(words.keys()).difference(emote_set)\n",
    "            for remove_word in remove_words:\n",
    "                words.pop(remove_word)\n",
    "            word_count.update(words)\n",
    "\n",
    "        return pd.DataFrame({\n",
    "            \"file\": [vod_name] * len(word_count),\n",
    "            \"word\": word_count.keys(),\n",
    "            \"count\": word_count.values()}\n",
    "        )"
   ]
  },
  {
   "cell_type": "code",
   "execution_count": null,
   "metadata": {},
   "outputs": [],
   "source": [
    "df_emote_counts = (\n",
    "    pd.concat(\n",
    "        count_emotes(file, emote_set) for file in files\n",
    "    )\n",
    "    .query('count > 10')\n",
    "    .pivot(index=[\"word\"], columns=[\"file\"], values=[\"count\"])\n",
    "    .fillna(0)    \n",
    ")\n",
    "df_emote_counts"
   ]
  },
  {
   "cell_type": "code",
   "execution_count": null,
   "metadata": {},
   "outputs": [],
   "source": [
    "import matplotlib.pyplot as plt\n",
    "from matplotlib.offsetbox import OffsetImage, AnnotationBbox\n",
    "\n",
    "def add_image_annot(coord: Tuple[int, int], img_path: str, img_scale: float, bbox_pad: float, ax) -> None:\n",
    "    \"\"\"\n",
    "    Adapted from: https://stackoverflow.com/a/44264051\n",
    "    \"\"\"\n",
    "    img = plt.imread(img_path)\n",
    "    im = OffsetImage(img, zoom=img_scale)\n",
    "    im.image.axes = ax\n",
    "    ab = AnnotationBbox(\n",
    "        im,\n",
    "        xy=coord,\n",
    "        xycoords=\"data\",\n",
    "        pad=bbox_pad\n",
    "    )\n",
    "    ax.add_artist(ab)"
   ]
  },
  {
   "cell_type": "code",
   "execution_count": null,
   "metadata": {},
   "outputs": [],
   "source": [
    "cmap = sns.clustermap(\n",
    "    df_emote_counts,\n",
    "    row_cluster=False,\n",
    "    figsize=(\n",
    "        # Row, cols\n",
    "        len(df_emote_counts.columns) * 2,\n",
    "        len(df_emote_counts.index) / 2,\n",
    "    ),\n",
    "    standard_scale=0,\n",
    "    dendrogram_ratio=0.02,\n",
    "    method=\"ward\",\n",
    "    cbar_pos=(-0.15, 0.5, 0.05, 0.18),\n",
    "    cbar_kws={\n",
    "        \"shrink\": 0.40,\n",
    "        \"aspect\": 40,\n",
    "        \"label\": \"Normalized Emote Counts (Across VODs)\"\n",
    "    }\n",
    ")\n",
    "cmap.fig.suptitle(\"VODs Clustered by Emote\", fontsize=\"xx-large\", fontweight=\"bold\", y=1.01)\n",
    "\n",
    "new_labels = []\n",
    "for lbl in cmap.ax_heatmap.axes.get_xticklabels():\n",
    "    emote_lbl = lbl.get_text().replace(\"count-\", \"\")\n",
    "    new_labels.append(emote_lbl)\n",
    "cmap.ax_heatmap.axes.set_xticklabels(new_labels, rotation=30, ha='right')\n",
    "\n",
    "\n",
    "for i, lbl in enumerate(cmap.ax_heatmap.axes.get_yticklabels()):\n",
    "    emote_path = emote_to_file[lbl.get_text()]\n",
    "    lbl_x, lbl_y = lbl.get_position()\n",
    "    add_image_annot(\n",
    "        coord=(0, lbl_y),\n",
    "        img_path=emote_path,\n",
    "        img_scale=0.2,\n",
    "        bbox_pad=0,\n",
    "        ax=cmap.ax_heatmap.axes\n",
    "    )\n",
    "\n",
    "cmap.ax_heatmap.axes.set(xlabel=\"VOD\", ylabel=\"Emote\")"
   ]
  }
 ],
 "metadata": {
  "kernelspec": {
   "display_name": "notebooks",
   "language": "python",
   "name": "python3"
  },
  "language_info": {
   "codemirror_mode": {
    "name": "ipython",
    "version": 3
   },
   "file_extension": ".py",
   "mimetype": "text/x-python",
   "name": "python",
   "nbconvert_exporter": "python",
   "pygments_lexer": "ipython3",
   "version": "3.10.9"
  },
  "orig_nbformat": 4
 },
 "nbformat": 4,
 "nbformat_minor": 2
}
