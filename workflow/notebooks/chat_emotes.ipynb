{
 "cells": [
  {
   "cell_type": "code",
   "execution_count": null,
   "metadata": {},
   "outputs": [],
   "source": [
    "import os\n",
    "import seaborn as sns\n",
    "import pandas as pd\n",
    "from collections import Counter"
   ]
  },
  {
   "cell_type": "code",
   "execution_count": null,
   "metadata": {},
   "outputs": [],
   "source": [
    "bttv_emote_dir = \"./../../output/Jerma985/emotes/bttv\"\n",
    "twitch_emote_dir = \"./../../output/Jerma985/emotes/twitch\""
   ]
  },
  {
   "cell_type": "code",
   "execution_count": null,
   "metadata": {},
   "outputs": [],
   "source": [
    "bttv_emotes = {os.path.splitext(emote_file)[0] for emote_file in os.listdir(bttv_emote_dir)}\n",
    "twitch_emotes = {os.path.splitext(emote_file)[0] for emote_file in os.listdir(twitch_emote_dir)}\n",
    "all_emotes = bttv_emotes.union(twitch_emotes)"
   ]
  },
  {
   "cell_type": "code",
   "execution_count": null,
   "metadata": {},
   "outputs": [],
   "source": [
    "chat_fd3 = \"./Frog_Detective_3_and_Grotto_Beasts_breakdown_later.tsv\""
   ]
  },
  {
   "cell_type": "code",
   "execution_count": null,
   "metadata": {},
   "outputs": [],
   "source": [
    "import csv\n",
    "import sys\n",
    "csv.field_size_limit(sys.maxsize)"
   ]
  },
  {
   "cell_type": "code",
   "execution_count": null,
   "metadata": {},
   "outputs": [],
   "source": [
    "with open(chat_fd3, 'rt') as chat_file:\n",
    "    reader = csv.DictReader(\n",
    "        chat_file,\n",
    "        fieldnames=[\"timestamp\", \"user\", \"msg\", \"is_command\", \"is_mention\"],\n",
    "        delimiter=\"\\t\"\n",
    "    )\n",
    "\n",
    "    word_count = Counter()\n",
    "    for line in reader:\n",
    "        words = Counter(line[\"msg\"].split(' '))\n",
    "        remove_words = set(words.keys()).difference(all_emotes)\n",
    "        for remove_word in remove_words:\n",
    "            words.pop(remove_word)\n",
    "        word_count.update(words)\n",
    "    print(word_count)"
   ]
  }
 ],
 "metadata": {
  "kernelspec": {
   "display_name": "notebooks",
   "language": "python",
   "name": "python3"
  },
  "language_info": {
   "codemirror_mode": {
    "name": "ipython",
    "version": 3
   },
   "file_extension": ".py",
   "mimetype": "text/x-python",
   "name": "python",
   "nbconvert_exporter": "python",
   "pygments_lexer": "ipython3",
   "version": "3.10.9"
  },
  "orig_nbformat": 4
 },
 "nbformat": 4,
 "nbformat_minor": 2
}
