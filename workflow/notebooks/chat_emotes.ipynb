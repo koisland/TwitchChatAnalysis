{
 "cells": [
  {
   "cell_type": "code",
   "execution_count": null,
   "metadata": {},
   "outputs": [],
   "source": [
    "import os"
   ]
  },
  {
   "cell_type": "code",
   "execution_count": null,
   "metadata": {},
   "outputs": [],
   "source": [
    "bttv_emote_dir = \"./../../output/Jerma985/emotes/bttv\"\n",
    "twitch_emote_dir = \"./../../output/Jerma985/emotes/twitch\""
   ]
  },
  {
   "cell_type": "code",
   "execution_count": null,
   "metadata": {},
   "outputs": [],
   "source": [
    "bttv_emotes = [os.path.splitext(emote_file)[0] for emote_file in os.listdir(bttv_emote_dir)]\n",
    "twitch_emotes = [os.path.splitext(emote_file)[0] for emote_file in os.listdir(twitch_emote_dir)]"
   ]
  }
 ],
 "metadata": {
  "kernelspec": {
   "display_name": "notebooks",
   "language": "python",
   "name": "python3"
  },
  "language_info": {
   "codemirror_mode": {
    "name": "ipython",
    "version": 3
   },
   "file_extension": ".py",
   "mimetype": "text/x-python",
   "name": "python",
   "nbconvert_exporter": "python",
   "pygments_lexer": "ipython3",
   "version": "3.10.9"
  },
  "orig_nbformat": 4
 },
 "nbformat": 4,
 "nbformat_minor": 2
}
