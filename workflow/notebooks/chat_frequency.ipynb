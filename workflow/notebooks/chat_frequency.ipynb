{
 "cells": [
  {
   "cell_type": "code",
   "execution_count": null,
   "metadata": {},
   "outputs": [],
   "source": [
    "import re\n",
    "import matplotlib.pyplot as plt\n",
    "import matplotlib.ticker as ticker\n",
    "import pandas as pd\n",
    "import seaborn as sns\n",
    "from pandas.core.groupby.generic import DataFrameGroupBy\n",
    "\n",
    "plt.style.use('ggplot')\n",
    "sns.set(rc={'figure.figsize':(40.0, 12.0)})"
   ]
  },
  {
   "cell_type": "code",
   "execution_count": null,
   "metadata": {},
   "outputs": [],
   "source": [
    "df = pd.read_csv(\"./READ_DESCRIPTION_OF_VOD_Happy_Birthday_________Insert_name_of_choice_here.tsv\", delimiter=\"\\t\")"
   ]
  },
  {
   "cell_type": "code",
   "execution_count": null,
   "metadata": {},
   "outputs": [],
   "source": [
    "df"
   ]
  },
  {
   "cell_type": "code",
   "execution_count": null,
   "metadata": {},
   "outputs": [],
   "source": [
    "# Get timestamps and floor them to seconds to reduce number of points.\n",
    "df[\"timestamp\"] = pd.to_datetime(df[\"timestamp\"], format=\"%H:%M:%S,%f\").dt.floor(freq=\"min\")"
   ]
  },
  {
   "cell_type": "code",
   "execution_count": null,
   "metadata": {},
   "outputs": [],
   "source": [
    "df_grp_timestamp = df.groupby(\"timestamp\")"
   ]
  },
  {
   "cell_type": "code",
   "execution_count": null,
   "metadata": {},
   "outputs": [],
   "source": [
    "def pattern_frequency(\n",
    "    grp_df: DataFrameGroupBy,\n",
    "    col: str,\n",
    "    pattern: str,\n",
    "    pattern_desc: str,\n",
    "    *,\n",
    "    ignorecase: bool = False\n",
    ") -> pd.DataFrame:\n",
    "    params = {\"regex\": True}\n",
    "    if ignorecase:\n",
    "        params[\"flags\"] = re.IGNORECASE\n",
    "\n",
    "    return (\n",
    "        grp_df[col]\n",
    "        .aggregate(lambda x: x.str.contains(pattern, **params).sum())\n",
    "        .reset_index()\n",
    "        .rename(columns={col: \"counts\"})\n",
    "        .assign(**{\"desc\": pattern_desc})\n",
    "    )"
   ]
  },
  {
   "cell_type": "code",
   "execution_count": null,
   "metadata": {},
   "outputs": [],
   "source": [
    "df_num_frequency = pattern_frequency(df_grp_timestamp, \"msg\", r\"\\+2\", \"num\")\n",
    "df_denom_frequency = pattern_frequency(df_grp_timestamp, \"msg\", r\"-2\", \"denom\")"
   ]
  },
  {
   "cell_type": "code",
   "execution_count": null,
   "metadata": {},
   "outputs": [],
   "source": [
    "df_message_frequency = pd.DataFrame(\n",
    "    ((grp, len(rows), \"total\") for grp, rows in df_grp_timestamp.groups.items()),\n",
    "    columns=[\"timestamp\", \"counts\", \"desc\"]\n",
    ")"
   ]
  },
  {
   "cell_type": "code",
   "execution_count": null,
   "metadata": {},
   "outputs": [],
   "source": [
    "df_message_frequency = pd.concat([\n",
    "    df_message_frequency,\n",
    "    df_num_frequency,\n",
    "    df_denom_frequency\n",
    "])"
   ]
  },
  {
   "cell_type": "code",
   "execution_count": null,
   "metadata": {},
   "outputs": [],
   "source": [
    "df_message_frequency[\"timestamp\"]"
   ]
  },
  {
   "cell_type": "code",
   "execution_count": null,
   "metadata": {},
   "outputs": [],
   "source": [
    "fig = sns.relplot(\n",
    "    data=df_message_frequency,\n",
    "    kind=\"line\",\n",
    "    x=\"timestamp\",\n",
    "    y=\"counts\",\n",
    "    hue=\"desc\"\n",
    ")\n",
    "# https://stackoverflow.com/questions/45289482/how-to-plot-int-to-datetime-on-x-axis-using-seaborn\n",
    "ax = plt.gca()\n",
    "ax.set_title(\"Chat Frequency\")\n",
    "label_formatter = ticker.FuncFormatter(\n",
    "    lambda x, _: pd.to_datetime(x, unit='d').strftime('%H:%M:%S')\n",
    ")\n",
    "ax.xaxis.set_major_formatter(label_formatter)\n",
    "plt.xticks(rotation=50)"
   ]
  }
 ],
 "metadata": {
  "kernelspec": {
   "display_name": "venv",
   "language": "python",
   "name": "python3"
  },
  "language_info": {
   "codemirror_mode": {
    "name": "ipython",
    "version": 3
   },
   "file_extension": ".py",
   "mimetype": "text/x-python",
   "name": "python",
   "nbconvert_exporter": "python",
   "pygments_lexer": "ipython3",
   "version": "3.10.9"
  },
  "orig_nbformat": 4
 },
 "nbformat": 4,
 "nbformat_minor": 2
}
