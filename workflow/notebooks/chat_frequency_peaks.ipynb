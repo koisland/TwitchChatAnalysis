{
 "cells": [
  {
   "cell_type": "code",
   "execution_count": null,
   "metadata": {},
   "outputs": [],
   "source": [
    "import numpy as np\n",
    "import pandas as pd\n",
    "from matplotlib import ticker\n",
    "import matplotlib.pyplot as plt\n",
    "from scipy.signal import find_peaks"
   ]
  },
  {
   "cell_type": "code",
   "execution_count": null,
   "metadata": {},
   "outputs": [],
   "source": [
    "count_frequency_data = \"./../../output/Jerma985/plots/vods_chat_frequency.csv\""
   ]
  },
  {
   "cell_type": "code",
   "execution_count": null,
   "metadata": {},
   "outputs": [],
   "source": [
    "df = pd.read_csv(count_frequency_data)\n",
    "df"
   ]
  },
  {
   "cell_type": "code",
   "execution_count": null,
   "metadata": {},
   "outputs": [],
   "source": [
    "# Assign peak.\n",
    "df[\"is_peak\"] = False"
   ]
  },
  {
   "cell_type": "code",
   "execution_count": null,
   "metadata": {},
   "outputs": [],
   "source": [
    "def tick_lbl_setter(tick_val: np.float64, df: pd.DataFrame):\n",
    "    try:\n",
    "        idx = int(tick_val)\n",
    "        ts = df.iloc[idx][\"timestamp\"].split(\" \")[1]\n",
    "    except (ValueError, IndexError):\n",
    "        ts = \"null\"\n",
    "    return ts\n",
    "\n",
    "# Clear plots\n",
    "plt.clf()\n",
    "\n",
    "# Number of vods.\n",
    "vods = df[\"name\"].unique()\n",
    "\n",
    "SUBPLOT_HEIGHT = 7.5\n",
    "SUBPLOTS_PER_COL = 4\n",
    "\n",
    "req_n_rows = max(1, int(len(vods) / SUBPLOTS_PER_COL))\n",
    "fig_height = req_n_rows * SUBPLOT_HEIGHT\n",
    "# Aspect ratio of 2.0.\n",
    "fig = plt.figure(figsize=(fig_height * 2, fig_height))\n",
    "plt.title(\"Chat Peak Frequencies\", fontsize=10 * req_n_rows, y=1.02)\n",
    "\n",
    "subplots = []\n",
    "for i, vod in enumerate(vods, 1):\n",
    "    df_vod = (\n",
    "        df.loc[df[\"name\"] == vod].\n",
    "        reset_index(drop=True)\n",
    "        .drop(columns=[\"name\"])\n",
    "    )\n",
    "    # Reset index on vod_df\n",
    "    subplot: plt.Axes = fig.add_subplot(req_n_rows, 4, i)\n",
    "\n",
    "    unique_patterns = df_vod[\"desc\"].unique()\n",
    "    # Get unique colors for each pattern\n",
    "    colors = plt.cm.jet(np.linspace(0, 1,len(unique_patterns)))\n",
    "\n",
    "    line_plots = []\n",
    "    for pattern, color in zip(unique_patterns, colors):\n",
    "        df_pattern_cnts = df_vod.loc[df_vod[\"desc\"] == pattern].reset_index(drop=True)\n",
    "\n",
    "        # Set prominence of peak as difference of max and median counts.\n",
    "        # https://en.wikipedia.org/wiki/Topographic_prominence\n",
    "        prominence_threshold = df_pattern_cnts[\"counts\"].max() - df_pattern_cnts[\"counts\"].quantile(0.9)\n",
    "\n",
    "        peaks, prominences = find_peaks(df_pattern_cnts[\"counts\"], prominence=prominence_threshold)\n",
    "\n",
    "        subplot.plot(peaks, df_pattern_cnts.loc[peaks][\"counts\"], color=color, marker='o', linestyle=\"None\")\n",
    "        line_plot, = subplot.plot(df_pattern_cnts.index, df_pattern_cnts[\"counts\"], color=color)\n",
    "        line_plots.append(line_plot)\n",
    "\n",
    "        # Label coordinates\n",
    "        for x, y in zip(peaks, df_pattern_cnts.iloc[peaks][\"counts\"]):\n",
    "            timestamp = df_vod.iloc[x][\"timestamp\"]\n",
    "            # Set original peak to True.\n",
    "            df.loc[(df[\"timestamp\"] == timestamp) & (df[\"desc\"] == pattern) & (df[\"counts\"] == y), \"is_peak\"] = True\n",
    "\n",
    "            timestamp = timestamp.split(\" \")[1]\n",
    "            plt.annotate(\n",
    "                xy=(x, y), text=timestamp, color=color, xytext=(0, 5), textcoords=\"offset points\"\n",
    "            )\n",
    "\n",
    "        label_formatter = ticker.FuncFormatter(\n",
    "            lambda x, _: tick_lbl_setter(x, df_pattern_cnts)\n",
    "        )\n",
    "        subplot.xaxis.set_major_formatter(label_formatter)\n",
    "\n",
    "    subplot.set_title(vod)\n",
    "    subplot.legend(\n",
    "        line_plots,\n",
    "        unique_patterns,\n",
    "        loc='upper left',\n",
    "        bbox_to_anchor=(1.02, 1),\n",
    "    )\n",
    "\n",
    "plt.show()"
   ]
  }
 ],
 "metadata": {
  "kernelspec": {
   "display_name": "notebooks",
   "language": "python",
   "name": "python3"
  },
  "language_info": {
   "codemirror_mode": {
    "name": "ipython",
    "version": 3
   },
   "file_extension": ".py",
   "mimetype": "text/x-python",
   "name": "python",
   "nbconvert_exporter": "python",
   "pygments_lexer": "ipython3",
   "version": "3.9.16"
  },
  "orig_nbformat": 4
 },
 "nbformat": 4,
 "nbformat_minor": 2
}
