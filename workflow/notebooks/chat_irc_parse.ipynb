{
 "cells": [
  {
   "cell_type": "code",
   "execution_count": null,
   "metadata": {},
   "outputs": [],
   "source": [
    "import json\n",
    "import os\n",
    "from typing import List, Dict"
   ]
  },
  {
   "attachments": {},
   "cell_type": "markdown",
   "metadata": {},
   "source": [
    "## Group VOD information to ID"
   ]
  },
  {
   "cell_type": "code",
   "execution_count": null,
   "metadata": {},
   "outputs": [],
   "source": [
    "available_vods_file = \"./../../output/Jerma985/available_videos.json\"\n",
    "with open(available_vods_file, 'rt') as vod_info_file:\n",
    "    vods: List[Dict[str, str]] = json.load(vod_info_file)"
   ]
  },
  {
   "cell_type": "code",
   "execution_count": null,
   "metadata": {},
   "outputs": [],
   "source": [
    "# Create dict where id to vod metadata.\n",
    "id_vods = {vod[\"id\"]: {k: v for k, v in vod.items() if k != \"id\"} for vod in vods}\n",
    "\n",
    "# Write out id to vod metadata json.\n",
    "with open(\"available_videos_by_id.json\", \"wt\") as vod_info_by_id_file:\n",
    "    json.dump(id_vods, vod_info_by_id_file)\n"
   ]
  },
  {
   "attachments": {},
   "cell_type": "markdown",
   "metadata": {},
   "source": [
    "## Convert IRC Formatted Chat to TSV\n",
    "TSV is required as timestamps contain commas.\n",
    "\n",
    "Also classify messages:\n",
    "* Is command? Contains \"!\" at start of `message`.\n",
    "* Is a mention? Contains \"@\" anywhere in `message`."
   ]
  },
  {
   "cell_type": "code",
   "execution_count": null,
   "metadata": {},
   "outputs": [],
   "source": [
    "vod_file_path = \"../../output/Jerma985/vod_chats/v1785872632.irc\"\n",
    "# Extract video id from vod filename.\n",
    "vod_id, _ = os.path.splitext(os.path.basename(vod_file_path))\n",
    "vod_id = vod_id.lstrip('v')\n",
    "try:\n",
    "    vod_metadata = id_vods[vod_id]\n",
    "    vod_title = vod_metadata[\"title\"]\n",
    "except KeyError:\n",
    "    raise Exception(f\"Failed to get vod title for {vod_id} from available vods.\")"
   ]
  },
  {
   "cell_type": "code",
   "execution_count": null,
   "metadata": {},
   "outputs": [],
   "source": [
    "vod_chat_fh = open(vod_file_path, \"rt\")\n",
    "vod_chat_tsv_fh = open(f\"{vod_title}.tsv\", \"wt\")\n",
    "# Read chat file and output tsv chat file.\n",
    "with vod_chat_fh as vod_chat_file, vod_chat_tsv_fh as vod_chat_tsv_file:\n",
    "    # Write header.\n",
    "    fields = '\\t'.join([\"timestamp\", \"user\", \"msg\", \"is_command\", \"is_mention\"])\n",
    "    vod_chat_tsv_file.write(f\"{fields}\\n\")\n",
    "\n",
    "    for line in vod_chat_file.readlines():\n",
    "        timestamp, user, msg = line.split(\" \", max_split = 2)\n",
    "        # Strip timestamp delimiters.\n",
    "        # String user angle brackets.\n",
    "        timestamp = timestamp.strip(\"[]\")\n",
    "        user = user.strip(\"<>\")\n",
    "        # Write fields out.\n",
    "        field_values = '\\t'.join([\n",
    "            timestamp,\n",
    "            user,\n",
    "            msg,\n",
    "            str(msg.startswith(\"!\")),\n",
    "            str('@' in msg)\n",
    "        ])\n",
    "        vod_chat_tsv_file.write(f\"{field_values}\\n\")"
   ]
  }
 ],
 "metadata": {
  "kernelspec": {
   "display_name": "venv",
   "language": "python",
   "name": "python3"
  },
  "language_info": {
   "codemirror_mode": {
    "name": "ipython",
    "version": 3
   },
   "file_extension": ".py",
   "mimetype": "text/x-python",
   "name": "python",
   "nbconvert_exporter": "python",
   "pygments_lexer": "ipython3",
   "version": "3.11.2"
  },
  "orig_nbformat": 4
 },
 "nbformat": 4,
 "nbformat_minor": 2
}
