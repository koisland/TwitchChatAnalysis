{
 "cells": [
  {
   "cell_type": "code",
   "execution_count": null,
   "metadata": {},
   "outputs": [],
   "source": [
    "import pandas as pd\n",
    "import numpy as np\n",
    "import matplotlib.pyplot as plt\n",
    "from sklearn.preprocessing import StandardScaler\n",
    "from sklearn.decomposition import PCA\n",
    "from collections import Counter"
   ]
  },
  {
   "cell_type": "code",
   "execution_count": null,
   "metadata": {},
   "outputs": [],
   "source": [
    "df_1 = pd.read_csv(\"./READ_DESCRIPTION_OF_VOD_Happy_Birthday_________Insert_name_of_choice_here.tsv\", delimiter=\"\\t\")\n",
    "df_2 = pd.read_csv(\"./Frog_Detective_3_and_Grotto_Beasts_breakdown_later.tsv\", delimiter=\"\\t\")\n",
    "df_3 = pd.read_csv(\"./Hardcore_gaming_mindset_standard_difficulty.tsv\", delimiter=\"\\t\")\n",
    "df_4 = pd.read_csv(\"./RE4RemA4ke_or_however_Im_supposed_to_write_it_idk.tsv\", delimiter=\"\\t\")\n",
    "df_5 = pd.read_csv(\"./Hylics.tsv\", delimiter=\"\\t\")"
   ]
  },
  {
   "cell_type": "code",
   "execution_count": null,
   "metadata": {},
   "outputs": [],
   "source": [
    "def count_words(srs_msg: pd.Series) -> Counter:\n",
    "    word_counter = Counter()\n",
    "    for words in srs_msg.str.split(\" \"):\n",
    "        try:\n",
    "            word_counter.update(words)\n",
    "        except TypeError:\n",
    "            continue\n",
    "    return word_counter"
   ]
  },
  {
   "cell_type": "code",
   "execution_count": null,
   "metadata": {},
   "outputs": [],
   "source": [
    "srs_1_words = pd.Series(count_words(df_1[\"msg\"]))\n",
    "srs_2_words = pd.Series(count_words(df_2[\"msg\"]))\n",
    "srs_3_words = pd.Series(count_words(df_3[\"msg\"]))\n",
    "srs_4_words = pd.Series(count_words(df_4[\"msg\"]))\n",
    "srs_5_words = pd.Series(count_words(df_5[\"msg\"]))"
   ]
  },
  {
   "cell_type": "code",
   "execution_count": null,
   "metadata": {},
   "outputs": [],
   "source": [
    "df = pd.concat(\n",
    "    [\n",
    "        srs_1_words,\n",
    "        srs_2_words,\n",
    "        srs_3_words,\n",
    "        srs_4_words,\n",
    "        srs_5_words,\n",
    "    ],\n",
    "    axis=1,\n",
    "    join=\"outer\"\n",
    ").fillna(0)"
   ]
  },
  {
   "cell_type": "code",
   "execution_count": null,
   "metadata": {},
   "outputs": [],
   "source": [
    "df = df.T"
   ]
  },
  {
   "cell_type": "code",
   "execution_count": null,
   "metadata": {},
   "outputs": [],
   "source": [
    "scaler = StandardScaler()\n",
    "scaler.fit(df)\n",
    "df_scaled = scaler.transform(df)"
   ]
  },
  {
   "cell_type": "code",
   "execution_count": null,
   "metadata": {},
   "outputs": [],
   "source": [
    "pca = PCA(n_components=2)\n",
    "pca.fit(df)\n",
    "pca_vod_words = pca.transform(df)\n",
    "\n",
    "PC1 = pca_vod_words[:,0]\n",
    "PC2 = pca_vod_words[:,1]\n",
    "print(pca.explained_variance_ratio_)"
   ]
  },
  {
   "cell_type": "code",
   "execution_count": null,
   "metadata": {},
   "outputs": [],
   "source": [
    "df_pc = pd.DataFrame(list(zip(PC1, PC2)), columns=[\"PC1\", \"PC2\"])"
   ]
  },
  {
   "cell_type": "code",
   "execution_count": null,
   "metadata": {},
   "outputs": [],
   "source": [
    "df_pc"
   ]
  }
 ],
 "metadata": {
  "kernelspec": {
   "display_name": "notebooks",
   "language": "python",
   "name": "python3"
  },
  "language_info": {
   "codemirror_mode": {
    "name": "ipython",
    "version": 3
   },
   "file_extension": ".py",
   "mimetype": "text/x-python",
   "name": "python",
   "nbconvert_exporter": "python",
   "pygments_lexer": "ipython3",
   "version": "3.10.9"
  },
  "orig_nbformat": 4
 },
 "nbformat": 4,
 "nbformat_minor": 2
}
