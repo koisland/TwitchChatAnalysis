{
 "cells": [
  {
   "cell_type": "code",
   "execution_count": null,
   "metadata": {},
   "outputs": [],
   "source": [
    "import os\n",
    "import json\n",
    "import shutil\n",
    "import requests\n",
    "\n",
    "# https://gist.github.com/chuckxD/377211b3dd3e8ca8dc505500938555eb"
   ]
  },
  {
   "cell_type": "code",
   "execution_count": null,
   "metadata": {},
   "outputs": [],
   "source": [
    "twitch_id = 23936415\n",
    "twitch_bttv_url = f\"https://api.betterttv.net/3/cached/users/twitch/{twitch_id}\"\n",
    "global_bttv_url = \"https://api.betterttv.net/3/cached/emotes/global\""
   ]
  },
  {
   "cell_type": "code",
   "execution_count": null,
   "metadata": {},
   "outputs": [],
   "source": [
    "def get_req(url: str):\n",
    "    resp = requests.get(\n",
    "        url,\n",
    "        headers={\n",
    "            \"content-type\": \"application/json\",\n",
    "            \"charset\": \"utf-8\",\n",
    "            \"user-agent\": \"vscode-client\"\n",
    "        }\n",
    "    )\n",
    "    json_resp = json.loads(resp.content)\n",
    "    return json_resp"
   ]
  },
  {
   "cell_type": "code",
   "execution_count": null,
   "metadata": {},
   "outputs": [],
   "source": [
    "global_bttv_emotes = get_req(global_bttv_url)"
   ]
  },
  {
   "cell_type": "code",
   "execution_count": null,
   "metadata": {},
   "outputs": [],
   "source": [
    "jerma_bttv_emotes = get_req(twitch_bttv_url)"
   ]
  },
  {
   "cell_type": "code",
   "execution_count": null,
   "metadata": {},
   "outputs": [],
   "source": [
    "for emote in [*jerma_bttv_emotes[\"channelEmotes\"], *global_bttv_emotes]:\n",
    "    emote_name = emote[\"code\"]\n",
    "    emote_url = f\"https://cdn.betterttv.net/emote/{emote['id']}/3x\"\n",
    "\n",
    "    file_ext = \"gif\" if emote[\"animated\"] else \"png\"\n",
    "    output_file = f\"{emote_name}.{file_ext}\"\n",
    "\n",
    "    if os.path.exists(output_file):\n",
    "        continue\n",
    "    \n",
    "    response = requests.get(emote_url, stream=True)\n",
    "    if response.ok:\n",
    "        with open(output_file, \"wb\") as out_file:\n",
    "            shutil.copyfileobj(response.raw, out_file)\n"
   ]
  }
 ],
 "metadata": {
  "kernelspec": {
   "display_name": "notebooks",
   "language": "python",
   "name": "python3"
  },
  "language_info": {
   "codemirror_mode": {
    "name": "ipython",
    "version": 3
   },
   "file_extension": ".py",
   "mimetype": "text/x-python",
   "name": "python",
   "nbconvert_exporter": "python",
   "pygments_lexer": "ipython3",
   "version": "3.10.9"
  },
  "orig_nbformat": 4
 },
 "nbformat": 4,
 "nbformat_minor": 2
}
